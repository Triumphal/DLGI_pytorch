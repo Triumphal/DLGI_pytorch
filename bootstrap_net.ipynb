{
 "cells": [
  {
   "attachments": {},
   "cell_type": "markdown",
   "metadata": {},
   "source": [
    "#### 导入相关包"
   ]
  },
  {
   "cell_type": "code",
   "execution_count": 1,
   "metadata": {},
   "outputs": [],
   "source": [
    "%reset -f\n",
    "import matplotlib.pyplot as plt\n",
    "import torch\n",
    "import numpy as np\n",
    "from torch.utils import data\n",
    "from getdataset import MyDataset,get_images_and_labels\n",
    "from skimage import io\n",
    "image_path = r\"./data/Inputs_mnist_train_64\"\n",
    "label_path = r\"./data/Labels_mnist_train\"\n",
    "data = get_images_and_labels(image_path,label_path)\n",
    "data_nor = MyDataset(image_path,label_path)\n"
   ]
  },
  {
   "cell_type": "markdown",
   "metadata": {},
   "source": [
    "#### 选取一张图"
   ]
  },
  {
   "cell_type": "code",
   "execution_count": 45,
   "metadata": {},
   "outputs": [],
   "source": [
    "net = torch.load(\"./net/net_10000.pth\")\n",
    "j = 5000 #np.random.randint(1,9000)\n",
    "# X1,Y1,m,s = data_nor[i]\n",
    "X,Y = torch.Tensor(data[0][j-1]),torch.Tensor(data[1][j-1])\n",
    "mean,sigma = torch.mean(X),torch.sqrt(torch.sum(torch.square(X - torch.mean(X)))/64)\n",
    "# X,Y = (X-mean)/sigma,Y"
   ]
  },
  {
   "attachments": {},
   "cell_type": "markdown",
   "metadata": {},
   "source": [
    "#### 使用网络重构"
   ]
  },
  {
   "cell_type": "code",
   "execution_count": 46,
   "metadata": {},
   "outputs": [
    {
     "data": {
      "text/plain": [
       "<matplotlib.colorbar.Colorbar at 0x2105abae160>"
      ]
     },
     "execution_count": 46,
     "metadata": {},
     "output_type": "execute_result"
    },
    {
     "data": {
      "image/png": "[encoded data removed]",
      "text/plain": [
       "<Figure size 640x480 with 4 Axes>"
      ]
     },
     "metadata": {},
     "output_type": "display_data"
    }
   ],
   "source": [
    "# 用来测试的\n",
    "x,y = (X.unsqueeze(0)-mean)/sigma,Y.unsqueeze(0)\n",
    "net.eval()\n",
    "net.to('cpu')\n",
    "y_hat = net(x)\n",
    "fig,axs = plt.subplots(1,3,subplot_kw={'xticks': [], 'yticks': []})\n",
    "\n",
    "ax0 = axs[0].imshow(y[0,0,:,:].detach().numpy(),'gray');axs[0].set_title(\"$T$\");axs[0].set_axis_off()\n",
    "ax1 = axs[1].imshow(y_hat[0,0,:,:].detach().numpy(),'gray');axs[1].set_title(\"$\\hat{T}$\");axs[1].axis('off')\n",
    "ax2 = axs[2].imshow(((y_hat-y)/255)[0,0,:,:].detach().numpy(),'turbo');axs[2].set_title(\"$\\hat{T}-T$\");axs[2].axis('off')\n",
    "fig.colorbar(ax2,ax=axs[2],fraction=0.045)"
   ]
  },
  {
   "cell_type": "code",
   "execution_count": 47,
   "metadata": {},
   "outputs": [],
   "source": [
    "# 重构图像\n",
    "def recon_image(net,X):\n",
    "    shape = X.shape\n",
    "    X_re = X.flatten()\n",
    "    X_new = torch.Tensor(np.random.choice(X_re,size=64).reshape(shape))\n",
    "    mean_new,sigma_new = torch.mean(X_new),torch.sqrt(torch.sum(torch.square(X_new - torch.mean(X_new)))/64)\n",
    "    x_new = (X_new-mean_new)/sigma_new\n",
    "    net.eval()\n",
    "    net.to('cpu')\n",
    "    y_new_hat = net(x_new)\n",
    "    return y_new_hat\n",
    "\n",
    "def recon_image_mask(net,X):\n",
    "    shape = X.shape\n",
    "    mask = torch.Tensor(np.random.randint(2,size=(8,8)))\n",
    "    # mask = torch.Tensor(np.ones((8,8)))\n",
    "    # mask[0,0]=1\n",
    "    X_new = torch.Tensor(X*mask.unsqueeze(0))\n",
    "    mean_new,sigma_new = torch.mean(X_new),torch.sqrt(torch.sum(torch.square(X_new - torch.mean(X_new)))/64)\n",
    "    x_new = (X_new-mean_new)/sigma_new\n",
    "    net.eval()\n",
    "    net.to('cpu')\n",
    "    y_new_hat = net(x_new)\n",
    "    return y_new_hat\n"
   ]
  },
  {
   "cell_type": "code",
   "execution_count": 48,
   "metadata": {},
   "outputs": [
    {
     "data": {
      "text/plain": [
       "(-0.5, 31.5, 31.5, -0.5)"
      ]
     },
     "execution_count": 48,
     "metadata": {},
     "output_type": "execute_result"
    },
    {
     "data": {
      "image/png": "[encoded data removed]",
      "text/plain": [
       "<Figure size 640x480 with 2 Axes>"
      ]
     },
     "metadata": {},
     "output_type": "display_data"
    }
   ],
   "source": [
    "\n",
    "y = Y.unsqueeze(0)\n",
    "y_new_hat = recon_image_mask(net,X)\n",
    "ax = plt.subplot(211)\n",
    "ax.imshow(y[0,0,:,:].numpy(),'gray');ax.axis('off')\n",
    "ax = plt.subplot(212)\n",
    "ax.imshow(y_new_hat[0,0,:,:].detach().numpy(),'gray');ax.axis('off')"
   ]
  },
  {
   "cell_type": "code",
   "execution_count": 51,
   "metadata": {},
   "outputs": [],
   "source": [
    "## 存储生成的数据\n",
    "# y = torch.zeros((1000,1,32,32))\n",
    "y = [] \n",
    "for i in range(1000):\n",
    "    temp = recon_image_mask(net,X)[0,0].detach().numpy()\n",
    "    y.append(temp)\n",
    "    # y[i,:,:,:] = recon_image_mask(net,X)\n",
    "yy = np.array(y)/255\n",
    "\n"
   ]
  },
  {
   "attachments": {},
   "cell_type": "markdown",
   "metadata": {},
   "source": [
    "#### 计算标准误差"
   ]
  },
  {
   "cell_type": "code",
   "execution_count": 52,
   "metadata": {},
   "outputs": [
    {
     "data": {
      "image/png": "[encoded data removed]",
      "text/plain": [
       "<Figure size 640x480 with 2 Axes>"
      ]
     },
     "metadata": {},
     "output_type": "display_data"
    }
   ],
   "source": [
    "\n",
    "yy_std = np.std(yy,axis=0)\n",
    "plt.figure();plt.axis('off')\n",
    "plt.imshow(yy_std,cmap='turbo') # 显示的图和矩阵一致，使用pcolor图像会倒置\n",
    "plt.colorbar()\n",
    "plt.savefig('./image/se/'+str(j)+'_se.jpg')\n",
    "# plt.savefig('./image/'+str(j)+'_se.eps')"
   ]
  },
  {
   "attachments": {},
   "cell_type": "markdown",
   "metadata": {},
   "source": [
    "#### 计算偏差"
   ]
  },
  {
   "cell_type": "code",
   "execution_count": 26,
   "metadata": {},
   "outputs": [
    {
     "data": {
      "text/plain": [
       "<matplotlib.colorbar.Colorbar at 0x2105a7e08e0>"
      ]
     },
     "execution_count": 26,
     "metadata": {},
     "output_type": "execute_result"
    },
    {
     "data": {
      "image/png": "[encoded data removed]",
      "text/plain": [
       "<Figure size 640x480 with 2 Axes>"
      ]
     },
     "metadata": {},
     "output_type": "display_data"
    }
   ],
   "source": [
    "y_b = yy-y_new_hat.squeeze(0).squeeze(1).detach().numpy()/255\n",
    "y_b_mean = np.mean(y_b,axis=0)\n",
    "plt.figure();plt.axis('off')\n",
    "plt.imshow(y_b_mean,cmap='turbo')\n",
    "plt.colorbar()\n",
    "# plt.savefig('./image/'+str(j)+'_bias.eps')"
   ]
  },
  {
   "cell_type": "markdown",
   "metadata": {},
   "source": [
    "#### 计算均方根误差"
   ]
  },
  {
   "cell_type": "code",
   "execution_count": 28,
   "metadata": {},
   "outputs": [
    {
     "data": {
      "text/plain": [
       "<matplotlib.colorbar.Colorbar at 0x2105aafd400>"
      ]
     },
     "execution_count": 28,
     "metadata": {},
     "output_type": "execute_result"
    },
    {
     "data": {
      "image/png": "[encoded data removed]",
      "text/plain": [
       "<Figure size 640x480 with 2 Axes>"
      ]
     },
     "metadata": {},
     "output_type": "display_data"
    }
   ],
   "source": [
    "\n",
    "y_r = yy-y_new_hat.squeeze(0).squeeze(1).detach().numpy()/255\n",
    "y_r_mean = np.sqrt(np.mean(np.square(y_r),axis=0))\n",
    "plt.figure();plt.axis('off')\n",
    "plt.pcolor(y_r_mean,cmap='turbo')\n",
    "plt.colorbar()\n",
    "# plt.savefig('./image/'+str(j)+'_rmse.eps')"
   ]
  }
 ],
 "metadata": {
  "kernelspec": {
   "display_name": "d2l",
   "language": "python",
   "name": "python3"
  },
  "language_info": {
   "codemirror_mode": {
    "name": "ipython",
    "version": 3
   },
   "file_extension": ".py",
   "mimetype": "text/x-python",
   "name": "python",
   "nbconvert_exporter": "python",
   "pygments_lexer": "ipython3",
   "version": "3.9.16"
  },
  "orig_nbformat": 4
 },
 "nbformat": 4,
 "nbformat_minor": 2
}
